{
 "cells": [
  {
   "cell_type": "code",
   "execution_count": null,
   "id": "d76c809a-fead-4f42-a589-fda9536c8661",
   "metadata": {},
   "outputs": [],
   "source": []
  },
  {
   "cell_type": "code",
   "execution_count": 1,
   "id": "9c5f5722-c397-4035-b2d9-0cb12f6bf2b0",
   "metadata": {
    "jupyter": {
     "source_hidden": true
    }
   },
   "outputs": [
    {
     "data": {
      "text/plain": [
       "True"
      ]
     },
     "execution_count": 1,
     "metadata": {},
     "output_type": "execute_result"
    }
   ],
   "source": [
    "\"y\" in \"yash\""
   ]
  },
  {
   "cell_type": "code",
   "execution_count": 3,
   "id": "8140b54d-e95c-4c93-ae4e-d0b47b315f6b",
   "metadata": {},
   "outputs": [
    {
     "data": {
      "text/plain": [
       "False"
      ]
     },
     "execution_count": 3,
     "metadata": {},
     "output_type": "execute_result"
    }
   ],
   "source": [
    "\"Y\"  in \"yash\""
   ]
  },
  {
   "cell_type": "code",
   "execution_count": 7,
   "id": "fc637e31-c968-4fdf-96b6-0eff1b2cbd59",
   "metadata": {},
   "outputs": [
    {
     "name": "stdout",
     "output_type": "stream",
     "text": [
      "hey hello\n"
     ]
    }
   ],
   "source": [
    "age =18\n",
    "if(age==18):\n",
    "    print(\"hey hello\")"
   ]
  },
  {
   "cell_type": "code",
   "execution_count": 11,
   "id": "04d03c17-b892-4fa4-833b-ce346064f3c5",
   "metadata": {},
   "outputs": [
    {
     "name": "stdout",
     "output_type": "stream",
     "text": [
      "age is greater than 18\n"
     ]
    }
   ],
   "source": [
    "age = 18 \n",
    "if (age ==19):\n",
    "    print(\"hey hello\")\n",
    "else:\n",
    "    print(\"age is greater than 18\")\n",
    "      "
   ]
  },
  {
   "cell_type": "code",
   "execution_count": 23,
   "id": "cfd738af-49a7-4430-a083-acdd26a82d16",
   "metadata": {},
   "outputs": [
    {
     "name": "stdout",
     "output_type": "stream",
     "text": [
      "not\n"
     ]
    }
   ],
   "source": [
    "a=234\n",
    "if (a%2==0 and a%5==0):\n",
    "    print(\"no is divisble by 5 and 3\")\n",
    "else:\n",
    "    print(\"not\")"
   ]
  },
  {
   "cell_type": "code",
   "execution_count": 56,
   "id": "e688cdd7-4a22-44ff-a63b-91ebd08e2037",
   "metadata": {},
   "outputs": [
    {
     "name": "stdout",
     "output_type": "stream",
     "text": [
      "number is divisible by 5\n"
     ]
    }
   ],
   "source": [
    "num =15 \n",
    "if (num%2==0):\n",
    "    print (\"number is divisble by 2\")\n",
    "elif(num%5==0):\n",
    "    print(\"number is divisible by 5\")\n",
    "else:\n",
    "    print(\"no is not divisble by 5 and 2\")\n",
    "    \n"
   ]
  },
  {
   "cell_type": "code",
   "execution_count": 54,
   "id": "d9ea866e-34a7-4544-9da3-5d94a219b13d",
   "metadata": {},
   "outputs": [
    {
     "name": "stdout",
     "output_type": "stream",
     "text": [
      "b is minimum \n"
     ]
    }
   ],
   "source": [
    "a=24\n",
    "b= 12\n",
    "c=56\n",
    "if(a<b and a<c):\n",
    "    print(\"a is minimum\")\n",
    "elif(b<a and b<c): \n",
    "    \n",
    "    print ( \"b is minimum \")\n",
    "else:\n",
    "        print(\"c is minimum\")"
   ]
  },
  {
   "cell_type": "code",
   "execution_count": null,
   "id": "2518e7dc-8f31-4f18-a6cf-feb9dcc5b2cf",
   "metadata": {},
   "outputs": [],
   "source": []
  }
 ],
 "metadata": {
  "kernelspec": {
   "display_name": "Python [conda env:base] *",
   "language": "python",
   "name": "conda-base-py"
  },
  "language_info": {
   "codemirror_mode": {
    "name": "ipython",
    "version": 3
   },
   "file_extension": ".py",
   "mimetype": "text/x-python",
   "name": "python",
   "nbconvert_exporter": "python",
   "pygments_lexer": "ipython3",
   "version": "3.12.7"
  }
 },
 "nbformat": 4,
 "nbformat_minor": 5
}
